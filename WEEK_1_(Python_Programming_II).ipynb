{
  "nbformat": 4,
  "nbformat_minor": 0,
  "metadata": {
    "colab": {
      "provenance": [],
      "collapsed_sections": [],
      "authorship_tag": "ABX9TyM/mBxUDTn/cHSSp3A/QhVr",
      "include_colab_link": true
    },
    "kernelspec": {
      "name": "python3",
      "display_name": "Python 3"
    },
    "language_info": {
      "name": "python"
    }
  },
  "cells": [
    {
      "cell_type": "markdown",
      "metadata": {
        "id": "view-in-github",
        "colab_type": "text"
      },
      "source": [
        "<a href=\"https://colab.research.google.com/github/priyaa1903/python-programming-II/blob/main/WEEK_1_(Python_Programming_II).ipynb\" target=\"_parent\"><img src=\"https://colab.research.google.com/assets/colab-badge.svg\" alt=\"Open In Colab\"/></a>"
      ]
    },
    {
      "cell_type": "markdown",
      "source": [
        "**PYTHON PROGRAMMING**\n",
        "\n",
        " **WEEK 1**\n",
        "\n",
        "Name: Priya Moolya   \n",
        "\n",
        "Roll no:433\n",
        "\n",
        "Class: SY EXTC-A"
      ],
      "metadata": {
        "id": "3awjV1uQdZkd"
      }
    },
    {
      "cell_type": "markdown",
      "source": [
        "Section A: Fundamentals of Python\n",
        "\n",
        "Write a Python program to print “Hello Python”\n"
      ],
      "metadata": {
        "id": "82k8OIP0uAyT"
      }
    },
    {
      "cell_type": "code",
      "source": [
        "s=\"Hello Python\"\n",
        "print(s)"
      ],
      "metadata": {
        "colab": {
          "base_uri": "https://localhost:8080/"
        },
        "id": "aUSwpviceWOJ",
        "outputId": "fea0ff58-4728-465b-dcb9-a23da9ce3d63"
      },
      "execution_count": null,
      "outputs": [
        {
          "output_type": "stream",
          "name": "stdout",
          "text": [
            "Hello Python\n"
          ]
        }
      ]
    },
    {
      "cell_type": "markdown",
      "source": [
        "2. Write a Python program to do arithmetical operations addition and division.?"
      ],
      "metadata": {
        "id": "H5boyl0oevpD"
      }
    },
    {
      "cell_type": "code",
      "source": [
        "num1=int(input(\"Enter the first number :\"))\n",
        "num2=int(input(\"Enter the second number :\"))\n",
        "print(\"addition of the two numbers is:\",num1+num2)"
      ],
      "metadata": {
        "id": "EqpuAypEewmY",
        "colab": {
          "base_uri": "https://localhost:8080/"
        },
        "outputId": "24861e8f-49da-4651-b5cf-8fe890d383fd"
      },
      "execution_count": null,
      "outputs": [
        {
          "output_type": "stream",
          "name": "stdout",
          "text": [
            "Enter the first number :4\n",
            "Enter the second number :6\n",
            "addition of the two numbers is: 10\n"
          ]
        }
      ]
    },
    {
      "cell_type": "markdown",
      "source": [
        "3. Write a Python program to find the area of a triangle?"
      ],
      "metadata": {
        "id": "3rx81hIJew0K"
      }
    },
    {
      "cell_type": "code",
      "source": [
        "a=int(input(\"Enter the base length of the triangle:\"))\n",
        "b=int(input(\"Enter the  height of the triangle:\"))\n",
        "c=0.5*a*b\n",
        "print(\"Area of the triangle is :\",c)"
      ],
      "metadata": {
        "id": "9nNMA7VVexJg",
        "colab": {
          "base_uri": "https://localhost:8080/"
        },
        "outputId": "9983ef66-98a4-4c3f-ae30-82690e9d8bb4"
      },
      "execution_count": null,
      "outputs": [
        {
          "output_type": "stream",
          "name": "stdout",
          "text": [
            "Enter the base length of the triangle:15\n",
            "Enter the  height of the triangle:6\n",
            "Area of the triangle is : 45.0\n"
          ]
        }
      ]
    },
    {
      "cell_type": "markdown",
      "source": [
        "4. Write a Python program to swap two variables?"
      ],
      "metadata": {
        "id": "i-rORiT-exgS"
      }
    },
    {
      "cell_type": "code",
      "source": [
        "\n",
        "\n",
        "x = input('Enter value of x: ')\n",
        "y = input('Enter value of y: ')\n",
        "temp = x\n",
        "x = y\n",
        "y = temp\n",
        "\n",
        "print('The value of x after swapping: ',x)\n",
        "print('The value of y after swapping: ',y)"
      ],
      "metadata": {
        "id": "MpVMVppsexph",
        "colab": {
          "base_uri": "https://localhost:8080/"
        },
        "outputId": "cbb2e55b-6989-4fef-a702-f22f0ca9fc23"
      },
      "execution_count": null,
      "outputs": [
        {
          "output_type": "stream",
          "name": "stdout",
          "text": [
            "Enter value of x: 4\n",
            "Enter value of y: 5\n",
            "The value of x after swapping:  5\n",
            "The value of y after swapping:  4\n"
          ]
        }
      ]
    },
    {
      "cell_type": "markdown",
      "source": [
        "5. Write a Python program to generate a random number?"
      ],
      "metadata": {
        "id": "8kd64lGDexzx"
      }
    },
    {
      "cell_type": "code",
      "source": [
        "import random\n",
        "print(random.randint(0,9))"
      ],
      "metadata": {
        "id": "GV5zOmLGue2D",
        "colab": {
          "base_uri": "https://localhost:8080/"
        },
        "outputId": "33e5c1d8-ef81-4bec-a36f-9ba2dda5d497"
      },
      "execution_count": null,
      "outputs": [
        {
          "output_type": "stream",
          "name": "stdout",
          "text": [
            "3\n"
          ]
        }
      ]
    },
    {
      "cell_type": "markdown",
      "source": [
        "Section B:\n",
        "1. Write a Python program to convert kilometers to miles?"
      ],
      "metadata": {
        "id": "Vtvpx_kqeyba"
      }
    },
    {
      "cell_type": "code",
      "source": [
        "km = float(input(\"Enter the speed in Kilometer : \"))\n",
        "miles = km * 0.621371\n",
        "print(\"The speed value in Miles:\\n\", miles)"
      ],
      "metadata": {
        "id": "dtChtHWpex8b",
        "colab": {
          "base_uri": "https://localhost:8080/"
        },
        "outputId": "aa243e97-9e4d-4a15-f7c0-2db0e084e73b"
      },
      "execution_count": null,
      "outputs": [
        {
          "output_type": "stream",
          "name": "stdout",
          "text": [
            "Enter the speed in Kilometer : 4\n",
            "The speed value in Miles:\n",
            " 2.485484\n"
          ]
        }
      ]
    },
    {
      "cell_type": "markdown",
      "source": [
        "2. Write a Python program to convert Celsius to Fahrenheit?"
      ],
      "metadata": {
        "id": "FFbzD8SclZTK"
      }
    },
    {
      "cell_type": "code",
      "source": [
        "\n",
        "rc = float(input(\"Enter temperature in celcius:\")) \n",
        "f = (c*9/5)+32 \n",
        "print(\"Temperature in Fahrenheit is:\", f)"
      ],
      "metadata": {
        "id": "oWVNIOd8lZs9",
        "colab": {
          "base_uri": "https://localhost:8080/"
        },
        "outputId": "abc94a22-7e2c-4c09-cc49-f1f4c890feb9"
      },
      "execution_count": null,
      "outputs": [
        {
          "output_type": "stream",
          "name": "stdout",
          "text": [
            "Enter temperature in celcius:30\n",
            "Temperature in Fahrenheit is: 86.0\n"
          ]
        }
      ]
    },
    {
      "cell_type": "markdown",
      "source": [
        "3. Write a Python program to display calendar?"
      ],
      "metadata": {
        "id": "QG2g93xeeyur"
      }
    },
    {
      "cell_type": "code",
      "source": [
        "\n",
        "import calendar\n",
        "yy=2020\n",
        "print(calendar.calendar(yy))"
      ],
      "metadata": {
        "id": "R6ePZXLbey24",
        "colab": {
          "base_uri": "https://localhost:8080/"
        },
        "outputId": "9fcad326-81c9-46cd-ac12-515c269c4e0b"
      },
      "execution_count": null,
      "outputs": [
        {
          "output_type": "stream",
          "name": "stdout",
          "text": [
            "                                  2020\n",
            "\n",
            "      January                   February                   March\n",
            "Mo Tu We Th Fr Sa Su      Mo Tu We Th Fr Sa Su      Mo Tu We Th Fr Sa Su\n",
            "       1  2  3  4  5                      1  2                         1\n",
            " 6  7  8  9 10 11 12       3  4  5  6  7  8  9       2  3  4  5  6  7  8\n",
            "13 14 15 16 17 18 19      10 11 12 13 14 15 16       9 10 11 12 13 14 15\n",
            "20 21 22 23 24 25 26      17 18 19 20 21 22 23      16 17 18 19 20 21 22\n",
            "27 28 29 30 31            24 25 26 27 28 29         23 24 25 26 27 28 29\n",
            "                                                    30 31\n",
            "\n",
            "       April                      May                       June\n",
            "Mo Tu We Th Fr Sa Su      Mo Tu We Th Fr Sa Su      Mo Tu We Th Fr Sa Su\n",
            "       1  2  3  4  5                   1  2  3       1  2  3  4  5  6  7\n",
            " 6  7  8  9 10 11 12       4  5  6  7  8  9 10       8  9 10 11 12 13 14\n",
            "13 14 15 16 17 18 19      11 12 13 14 15 16 17      15 16 17 18 19 20 21\n",
            "20 21 22 23 24 25 26      18 19 20 21 22 23 24      22 23 24 25 26 27 28\n",
            "27 28 29 30               25 26 27 28 29 30 31      29 30\n",
            "\n",
            "        July                     August                  September\n",
            "Mo Tu We Th Fr Sa Su      Mo Tu We Th Fr Sa Su      Mo Tu We Th Fr Sa Su\n",
            "       1  2  3  4  5                      1  2          1  2  3  4  5  6\n",
            " 6  7  8  9 10 11 12       3  4  5  6  7  8  9       7  8  9 10 11 12 13\n",
            "13 14 15 16 17 18 19      10 11 12 13 14 15 16      14 15 16 17 18 19 20\n",
            "20 21 22 23 24 25 26      17 18 19 20 21 22 23      21 22 23 24 25 26 27\n",
            "27 28 29 30 31            24 25 26 27 28 29 30      28 29 30\n",
            "                          31\n",
            "\n",
            "      October                   November                  December\n",
            "Mo Tu We Th Fr Sa Su      Mo Tu We Th Fr Sa Su      Mo Tu We Th Fr Sa Su\n",
            "          1  2  3  4                         1          1  2  3  4  5  6\n",
            " 5  6  7  8  9 10 11       2  3  4  5  6  7  8       7  8  9 10 11 12 13\n",
            "12 13 14 15 16 17 18       9 10 11 12 13 14 15      14 15 16 17 18 19 20\n",
            "19 20 21 22 23 24 25      16 17 18 19 20 21 22      21 22 23 24 25 26 27\n",
            "26 27 28 29 30 31         23 24 25 26 27 28 29      28 29 30 31\n",
            "                          30\n",
            "\n"
          ]
        }
      ]
    },
    {
      "cell_type": "markdown",
      "source": [
        "4. Write a Python program to solve quadratic equation?"
      ],
      "metadata": {
        "id": "4c5lekL3ezCB"
      }
    },
    {
      "cell_type": "code",
      "source": [
        "import cmath \n",
        "a=int(input(\"Enter a:\")) \n",
        "b=int(input('Enterr b:')) \n",
        "c=int(input('Enter c:')) \n",
        "d=(b**2) - (4*a*c)  \n",
        "sol1=(-b-cmath.sqrt(d))/(2*a)  \n",
        "sol2=(-b+cmath.sqrt(d))/(2*a) \n",
        "print('The solution are',sol1 ,'and',sol2 )"
      ],
      "metadata": {
        "id": "KXFdX-ClezMg",
        "colab": {
          "base_uri": "https://localhost:8080/"
        },
        "outputId": "c3d41ddb-6017-4d11-b813-22357f829efa"
      },
      "execution_count": null,
      "outputs": [
        {
          "output_type": "stream",
          "name": "stdout",
          "text": [
            "Enter a:3\n",
            "Enterr b:4\n",
            "Enter c:5\n",
            "The solution are (-0.6666666666666666-1.1055415967851332j) and (-0.6666666666666666+1.1055415967851332j)\n"
          ]
        }
      ]
    },
    {
      "cell_type": "markdown",
      "source": [
        "5. Write a Python program to swap two variables without temp variable?"
      ],
      "metadata": {
        "id": "ZnWG3eWhezXT"
      }
    },
    {
      "cell_type": "code",
      "source": [
        "x =input('Enter value of x: ')\n",
        "y =input('Enter value of y: ')\n",
        "\n",
        "x, y = y, x\n",
        "print(\"x =\", x)\n",
        "print(\"y =\", y)"
      ],
      "metadata": {
        "id": "4q7j-tdqezgR",
        "colab": {
          "base_uri": "https://localhost:8080/"
        },
        "outputId": "df2aa36a-1dcd-405b-f22a-8283c9308974"
      },
      "execution_count": null,
      "outputs": [
        {
          "output_type": "stream",
          "name": "stdout",
          "text": [
            "Enter value of x: 3\n",
            "Enter value of y: 4\n",
            "x = 4\n",
            "y = 3\n"
          ]
        }
      ]
    },
    {
      "cell_type": "markdown",
      "source": [
        "Section C:\n",
        "1. Write a Python Program to Check if a Number is Positive, Negative or Zero?"
      ],
      "metadata": {
        "id": "FjDztUdlezow"
      }
    },
    {
      "cell_type": "code",
      "source": [
        "num = int(input(\"Enter a number: \"))\n",
        "if num > 0:\n",
        "   print(\"The number is Positive \")\n",
        "elif num == 0:\n",
        "   print(\"The number is Zero\")\n",
        "else:\n",
        "   print(\"The number is Negative \")"
      ],
      "metadata": {
        "id": "HDnVgjs8ezwo",
        "colab": {
          "base_uri": "https://localhost:8080/"
        },
        "outputId": "cac5ae3a-3c17-498e-f5e7-bf5c715ce2e7"
      },
      "execution_count": null,
      "outputs": [
        {
          "output_type": "stream",
          "name": "stdout",
          "text": [
            "Enter a number: 7\n",
            "The number is Positive \n"
          ]
        }
      ]
    },
    {
      "cell_type": "markdown",
      "source": [
        "2. Write a Python Program to Check if a Number is Odd or Even?"
      ],
      "metadata": {
        "id": "0UDEVIeoez45"
      }
    },
    {
      "cell_type": "code",
      "source": [
        "num = int(input(\"Enter a number: \"))\n",
        "if num/2==0:\n",
        "   print(\"The number is even\")\n",
        "else:\n",
        "   print(\"The number is odd\")"
      ],
      "metadata": {
        "id": "X-tMBSOIe0Ac",
        "colab": {
          "base_uri": "https://localhost:8080/"
        },
        "outputId": "0877392b-6d2d-496b-842c-2dfb02593a2a"
      },
      "execution_count": null,
      "outputs": [
        {
          "output_type": "stream",
          "name": "stdout",
          "text": [
            "Enter a number: 4\n",
            "The number is odd\n"
          ]
        }
      ]
    },
    {
      "cell_type": "markdown",
      "source": [
        "3. Write a Python Program to Check Leap Year?"
      ],
      "metadata": {
        "id": "Ite4q_0Fe0I4"
      }
    },
    {
      "cell_type": "code",
      "source": [
        "year=int(input(\"Enter the year to be checked:\"))\n",
        "if(year%4==0 and year%100!=0 or year%400==0):\n",
        "    print(\"The year is a leap year!\")\n",
        "else:\n",
        "    print(\"The year is not a leap year!\")"
      ],
      "metadata": {
        "id": "hp4BGaTqe0Qy",
        "colab": {
          "base_uri": "https://localhost:8080/"
        },
        "outputId": "2a6b031a-8547-4c49-d930-607315fdc3dc"
      },
      "execution_count": null,
      "outputs": [
        {
          "output_type": "stream",
          "name": "stdout",
          "text": [
            "Enter the year to be checked:2020\n",
            "The year is a leap year!\n"
          ]
        }
      ]
    },
    {
      "cell_type": "markdown",
      "source": [
        "4. Write a Python Program to Check Prime Number?"
      ],
      "metadata": {
        "id": "vs7Hiv2Je0ZQ"
      }
    },
    {
      "cell_type": "code",
      "source": [
        "\n",
        "num = int(input(\"Enter a number: \"))\n",
        "if num > 1:\n",
        "   \n",
        "   for i in range(2,num):\n",
        "       if (num % i) == 0:\n",
        "           print(num,\"is not a prime number\")\n",
        "           break\n",
        "   else:\n",
        "       print(num,\"is a prime number\")\n",
        "       \n",
        "else:\n",
        "   print(num,\"is not a prime number\")"
      ],
      "metadata": {
        "id": "utYEVt3he0gA",
        "colab": {
          "base_uri": "https://localhost:8080/"
        },
        "outputId": "bbd7d489-4eae-4499-cb23-725ac8fb3885"
      },
      "execution_count": null,
      "outputs": [
        {
          "output_type": "stream",
          "name": "stdout",
          "text": [
            "Enter a number: 2\n",
            "2 is a prime number\n"
          ]
        }
      ]
    },
    {
      "cell_type": "markdown",
      "source": [
        "5. Write a Python Program to Print all Prime Numbers in an Interval of 1-10000?"
      ],
      "metadata": {
        "id": "bfNu5jgbhw12"
      }
    },
    {
      "cell_type": "code",
      "source": [
        "def prime(num):\n",
        "    if num > 1:\n",
        "       for i in range(2, num):\n",
        "           if (num % i) == 0:\n",
        "               break\n",
        "       else:\n",
        "           print(num,end=\" \")\n",
        "lower = int(input(\"enter lower limit: \"))\n",
        "upper = int(input(\"enter upper limit: \"))\n",
        "for i in range(lower, upper + 1):\n",
        "   \n",
        "   prime(i)"
      ],
      "metadata": {
        "id": "8JgCs_wjhyNQ",
        "colab": {
          "base_uri": "https://localhost:8080/"
        },
        "outputId": "561bc797-0e66-4029-a85a-b28786908050"
      },
      "execution_count": null,
      "outputs": [
        {
          "output_type": "stream",
          "name": "stdout",
          "text": [
            "enter lower limit: 100\n",
            "enter upper limit: 150\n",
            "101 103 107 109 113 127 131 137 139 149 "
          ]
        }
      ]
    },
    {
      "cell_type": "markdown",
      "source": [
        "Section D:\n",
        "1. Write a Python Program to Find the Factorial of a Number?"
      ],
      "metadata": {
        "id": "L-HNo5Qkhyhu"
      }
    },
    {
      "cell_type": "code",
      "source": [
        "\n",
        "num=int(input(\"Enter the number :\"))\n",
        "def factorial(num):\n",
        "  fact=1\n",
        "  for i in range(1, num+1):\n",
        "    facto=fact * i\n",
        "    print(\"Factorial of\", num,\" is \",facto)"
      ],
      "metadata": {
        "id": "ohlCxAadhytP",
        "colab": {
          "base_uri": "https://localhost:8080/"
        },
        "outputId": "665848ef-5b50-43f6-af3b-d328b395ef0b"
      },
      "execution_count": null,
      "outputs": [
        {
          "name": "stdout",
          "output_type": "stream",
          "text": [
            "Enter the number :4\n"
          ]
        }
      ]
    },
    {
      "cell_type": "markdown",
      "source": [
        "2. Write a Python Program to Display the multiplication Table?"
      ],
      "metadata": {
        "id": "2EItrYpFhzFY"
      }
    },
    {
      "cell_type": "code",
      "source": [
        "number = int(input (\"Enter the number to print the multiplication table: \"))    \n",
        "print (\"The Multiplication Table of: \", number)   \n",
        "for count in range(1, 11):      \n",
        "    mul= number * count   \n",
        "    print (number, 'x', count, '=',mul)"
      ],
      "metadata": {
        "id": "MhNN_qoShzMs",
        "colab": {
          "base_uri": "https://localhost:8080/"
        },
        "outputId": "c4eb0b7c-2c26-4e8d-b318-fdfdc9f745c5"
      },
      "execution_count": null,
      "outputs": [
        {
          "output_type": "stream",
          "name": "stdout",
          "text": [
            "Enter the number to print the multiplication table: 3\n",
            "The Multiplication Table of:  3\n",
            "3 x 1 = 3\n",
            "3 x 2 = 6\n",
            "3 x 3 = 9\n",
            "3 x 4 = 12\n",
            "3 x 5 = 15\n",
            "3 x 6 = 18\n",
            "3 x 7 = 21\n",
            "3 x 8 = 24\n",
            "3 x 9 = 27\n",
            "3 x 10 = 30\n"
          ]
        }
      ]
    },
    {
      "cell_type": "markdown",
      "source": [
        "3. Write a Python Program to Print the Fibonacci sequence?"
      ],
      "metadata": {
        "id": "FiwZrSvNhzUD"
      }
    },
    {
      "cell_type": "code",
      "source": [
        "nterm=int (input(\"Enter the terms to be printed:\"))\n",
        "n1=0\n",
        "n2=1\n",
        "count=0\n",
        "\n",
        "if nterm<=0:\n",
        "  print(\"Please enter a positive integer, the given number is not valid\")\n",
        "\n",
        "elif nterm==1:\n",
        "  print (\"The Fibonacci sequence of the number upto:\",nterm, \":\") \n",
        "  print(n1)\n",
        "\n",
        "else:\n",
        "    print (\"The Fibonacci sequence of the number is:\")\n",
        "    while count <nterm:\n",
        "      print (n1)\n",
        "      nth=n1+n2\n",
        "      n1=n2 \n",
        "\n",
        "      n2=nth \n",
        "      count +=1"
      ],
      "metadata": {
        "id": "2cY5REDlhzar",
        "colab": {
          "base_uri": "https://localhost:8080/"
        },
        "outputId": "ef865a05-7267-4cc0-f8c2-a0a084c1a3e1"
      },
      "execution_count": 6,
      "outputs": [
        {
          "output_type": "stream",
          "name": "stdout",
          "text": [
            "Enter the terms to be printed:10\n",
            "The Fibonacci sequence of the number is:\n",
            "0\n",
            "1\n",
            "1\n",
            "2\n",
            "3\n",
            "5\n",
            "8\n",
            "13\n",
            "21\n",
            "34\n"
          ]
        }
      ]
    },
    {
      "cell_type": "markdown",
      "source": [
        "4. Write a Python Program to Check Armstrong Number?"
      ],
      "metadata": {
        "id": "yuVaiWjhhzgt"
      }
    },
    {
      "cell_type": "code",
      "source": [
        "num = int(input(\"Enter a number: \"))\n",
        "\n",
        "\n",
        "sum = 0\n",
        "\n",
        "temp = num\n",
        "while temp > 0:\n",
        "   digit = temp % 10\n",
        "   sum += digit ** 3\n",
        "   temp //= 10\n",
        "\n",
        "if num == sum:\n",
        "   print(\"The number is an Armstrong number\")\n",
        "else:\n",
        "   print(\"The number is not an Armstrong number\")"
      ],
      "metadata": {
        "id": "MfL35SSFhzm_",
        "colab": {
          "base_uri": "https://localhost:8080/"
        },
        "outputId": "9112be76-ce90-4f7b-8007-187a07f3f323"
      },
      "execution_count": 7,
      "outputs": [
        {
          "output_type": "stream",
          "name": "stdout",
          "text": [
            "Enter a number: 534\n",
            "The number is not an Armstrong number\n"
          ]
        }
      ]
    },
    {
      "cell_type": "markdown",
      "source": [
        "5. Write a Python Program to Find Armstrong Number in an Interval?"
      ],
      "metadata": {
        "id": "BkdoG3i3hzto"
      }
    },
    {
      "cell_type": "code",
      "source": [
        "lower = int(input(\"Enter lower number: \"))\n",
        "upper = int(input(\"Enter upper number: \"))\n",
        "order = len(str(num))\n",
        "\n",
        "for num in range(lower, upper + 1):\n",
        "\n",
        "    \n",
        "  \n",
        "   sum = 0\n",
        "\n",
        "   temp = num\n",
        "   while temp > 0:\n",
        "       digit = temp % 10\n",
        "       sum += digit ** order\n",
        "      \n",
        "       temp //= 10\n",
        "\n",
        "   if num == sum:\n",
        "       print(num)"
      ],
      "metadata": {
        "id": "lTU4ev5Chzzv",
        "colab": {
          "base_uri": "https://localhost:8080/"
        },
        "outputId": "439ea63e-d815-4034-935d-9adfdc3fd727"
      },
      "execution_count": 12,
      "outputs": [
        {
          "output_type": "stream",
          "name": "stdout",
          "text": [
            "Enter lower number: 100\n",
            "Enter upper number: 500\n",
            "153\n",
            "370\n",
            "371\n",
            "407\n"
          ]
        }
      ]
    },
    {
      "cell_type": "markdown",
      "source": [
        "6. Write a Python Program to Find the Sum of Natural Numbers?"
      ],
      "metadata": {
        "id": "0jHulU10hz-D"
      }
    },
    {
      "cell_type": "code",
      "source": [
        "num = int(input('Enter a number: '))\n",
        "sum = 0\n",
        "x = 1\n",
        "while x <= num:\n",
        " sum += x \n",
        " x += 1\n",
        "print('The sum of natural number =',sum)"
      ],
      "metadata": {
        "id": "72IXT5Heh0Fd",
        "colab": {
          "base_uri": "https://localhost:8080/"
        },
        "outputId": "8a9a0bc0-2a11-4a44-a4fe-75843c1a1713"
      },
      "execution_count": 15,
      "outputs": [
        {
          "output_type": "stream",
          "name": "stdout",
          "text": [
            "Enter a number: 2\n",
            "The sum of natural number = 3\n"
          ]
        }
      ]
    },
    {
      "cell_type": "markdown",
      "source": [
        "Section E:\n",
        "1. Write a Python Program to find sum of array?"
      ],
      "metadata": {
        "id": "ZgzSR1m4h0Sx"
      }
    },
    {
      "cell_type": "code",
      "source": [
        "num= [10, 25, 38, 4, 15];    \n",
        "sum=0  \n",
        "for i in range(0, len(num)):\n",
        "\n",
        "  sum = sum + num[i];\n",
        "\n",
        "print(\"Sum of all the elements of an array: \" + str(sum));"
      ],
      "metadata": {
        "id": "P9ZS_Vlsh0bc",
        "colab": {
          "base_uri": "https://localhost:8080/"
        },
        "outputId": "a65eea85-392d-43a7-b54b-6b34c5677b28"
      },
      "execution_count": 18,
      "outputs": [
        {
          "output_type": "stream",
          "name": "stdout",
          "text": [
            "Sum of all the elements of an array: 92\n"
          ]
        }
      ]
    },
    {
      "cell_type": "markdown",
      "source": [
        "2. Write a Python Program to find largest element in an array?"
      ],
      "metadata": {
        "id": "0X2Ld4tMh0mC"
      }
    },
    {
      "cell_type": "code",
      "source": [
        "num= [10, 25, 38, 4, 15];        \n",
        "max = num[0];    \n",
        "\n",
        "for i in range(0, len(num)):    \n",
        "      \n",
        "   if(num[i] > max):    \n",
        "       max = num[i];    \n",
        "           \n",
        "print(\"Largest element present in given array: \" + str(max));   "
      ],
      "metadata": {
        "id": "NxgsfaP7h0tp",
        "colab": {
          "base_uri": "https://localhost:8080/"
        },
        "outputId": "51dd06c1-9a11-4b74-e589-74f1dcaba214"
      },
      "execution_count": 19,
      "outputs": [
        {
          "output_type": "stream",
          "name": "stdout",
          "text": [
            "Largest element present in given array: 38\n"
          ]
        }
      ]
    },
    {
      "cell_type": "markdown",
      "source": [
        "3. Write a Python Program for array rotation?"
      ],
      "metadata": {
        "id": "yKkiq_CLh03d"
      }
    },
    {
      "cell_type": "code",
      "source": [
        "num= [10, 25, 38, 4, 15];        \n",
        "n = 3;    \n",
        "     \n",
        "print(\"Original array: \");    \n",
        "for i in range(0, len(num)):    \n",
        "    print(num[i]),     \n",
        "        \n",
        "for i in range(0, n):    \n",
        "      \n",
        "    first = num[0];    \n",
        "        \n",
        "    for j in range(0, len(num)-1):    \n",
        "           \n",
        "        num[j] = num[j+1];    \n",
        "                \n",
        "    num[len(num)-1] = first;    \n",
        "     \n",
        "print();    \n",
        "     \n",
        "    \n",
        "print(\"Array after left rotation: \");    \n",
        "for i in range(0, len(num)):    \n",
        "    print(num[i]),    "
      ],
      "metadata": {
        "id": "oL8azJWrh1AR",
        "colab": {
          "base_uri": "https://localhost:8080/"
        },
        "outputId": "330e8bef-6fae-402a-8781-287f158559ca"
      },
      "execution_count": 20,
      "outputs": [
        {
          "output_type": "stream",
          "name": "stdout",
          "text": [
            "Original array: \n",
            "10\n",
            "25\n",
            "38\n",
            "4\n",
            "15\n",
            "\n",
            "Array after left rotation: \n",
            "4\n",
            "15\n",
            "10\n",
            "25\n",
            "38\n"
          ]
        }
      ]
    },
    {
      "cell_type": "markdown",
      "source": [
        "4. Write a Python Program to Split the array and add the first part to the end?"
      ],
      "metadata": {
        "id": "EJKu2fTrh1J_"
      }
    },
    {
      "cell_type": "code",
      "source": [
        "def SplitArray(num, n, k):\n",
        "\tfor i in range(0, k):\n",
        "\t\tx = num[0]\n",
        "\t\tfor j in range(0, n-1):\n",
        "\t\t\tnum[j] = num[j + 1]\n",
        "\t\t\n",
        "\t\tnum[n-1] = x\t\t\n",
        "num =[10, 25, 38, 4, 15]\n",
        "n = len(num)\n",
        "position = 2\n",
        "SplitArray(num, n, position)\n",
        "for i in range(0, n):\n",
        "\tprint(num[i], end = ' ')"
      ],
      "metadata": {
        "id": "lAJ51jUuh1TW",
        "colab": {
          "base_uri": "https://localhost:8080/"
        },
        "outputId": "54313666-7061-4d13-fe9a-ee8efeb9efb2"
      },
      "execution_count": 21,
      "outputs": [
        {
          "output_type": "stream",
          "name": "stdout",
          "text": [
            "38 4 15 10 25 "
          ]
        }
      ]
    },
    {
      "cell_type": "markdown",
      "source": [
        "5. Write a Python Program to check if given array is Monotonic?"
      ],
      "metadata": {
        "id": "4sicprrGh1eE"
      }
    },
    {
      "cell_type": "code",
      "source": [
        "\n",
        "def ismonotone(a):\n",
        "    n=len(a) \n",
        "    if n==1:\n",
        "        return True\n",
        "    else:\n",
        "        \n",
        "        if all(a[i]>=a[i+1] for i in range(0,n-1) or a[i]<=a[i+1] for i in range(0,n-1)):\n",
        "            return True\n",
        "        else:\n",
        "            return False\n",
        "num =[10, 25, 38, 4, 15]\n",
        "print(ismonotone(num))\n",
        "sum=[1]\n",
        "print(ismonotone(sum))\n"
      ],
      "metadata": {
        "id": "_gqu7Dmoh1oE",
        "colab": {
          "base_uri": "https://localhost:8080/"
        },
        "outputId": "92119304-b4ea-423d-ac8b-77bceb102724"
      },
      "execution_count": 23,
      "outputs": [
        {
          "output_type": "stream",
          "name": "stdout",
          "text": [
            "False\n",
            "True\n"
          ]
        }
      ]
    },
    {
      "cell_type": "markdown",
      "source": [
        "Section F:\n",
        "1. Write a Python program to find sum of elements in list?"
      ],
      "metadata": {
        "id": "IIIg6ZAsh2Ja"
      }
    },
    {
      "cell_type": "code",
      "source": [
        "num = [20,4,12,50,7,29,23,4,5]\n",
        "total=0\n",
        "for ele in range(0, len(num)):\n",
        "    total = total + num[ele]\n",
        "print(\"Sum of all elements in given list: \", total)"
      ],
      "metadata": {
        "id": "3yh_78YPh2P9",
        "colab": {
          "base_uri": "https://localhost:8080/"
        },
        "outputId": "33edc92d-a88c-4116-c519-a0672f8cabce"
      },
      "execution_count": 28,
      "outputs": [
        {
          "output_type": "stream",
          "name": "stdout",
          "text": [
            "Sum of all elements in given list:  154\n"
          ]
        }
      ]
    },
    {
      "cell_type": "markdown",
      "source": [
        "\n",
        "2. Write a Python program to Multiply all numbers in the list?"
      ],
      "metadata": {
        "id": "KjAfv4R8h2YR"
      }
    },
    {
      "cell_type": "code",
      "source": [
        "\n",
        "def multiply(numbers):  \n",
        "    total = 1\n",
        "    for x in numbers:\n",
        "        total *= x  \n",
        "    return total   \n",
        "num =[10, 25, 38, 4, 15]\n",
        "print(multiply(num))\n"
      ],
      "metadata": {
        "id": "txtO4i7Sj-0l",
        "colab": {
          "base_uri": "https://localhost:8080/"
        },
        "outputId": "3179591b-854c-4c0c-a3f2-061d4c52bb30"
      },
      "execution_count": 32,
      "outputs": [
        {
          "output_type": "stream",
          "name": "stdout",
          "text": [
            "570000\n"
          ]
        }
      ]
    },
    {
      "cell_type": "markdown",
      "source": [
        "\n",
        "3. Write a Python program to find smallest number in a list?"
      ],
      "metadata": {
        "id": "RPFLFjQmjuZE"
      }
    },
    {
      "cell_type": "code",
      "source": [
        "num = [1,2,3,4]\n",
        "smallest = min(num)\n",
        "print(\"Smallest number in the list is :\",smallest)"
      ],
      "metadata": {
        "id": "pfda0LXrju0O",
        "colab": {
          "base_uri": "https://localhost:8080/"
        },
        "outputId": "7db0ef56-63b5-4dab-89ca-185cfe2a5cb8"
      },
      "execution_count": 36,
      "outputs": [
        {
          "output_type": "stream",
          "name": "stdout",
          "text": [
            "Smallest number in the list is : 1\n"
          ]
        }
      ]
    },
    {
      "cell_type": "markdown",
      "source": [
        "\n",
        "4. Write a Python program to find largest number in a list?"
      ],
      "metadata": {
        "id": "XlgW_5zyjvA8"
      }
    },
    {
      "cell_type": "code",
      "source": [
        "num = [1, 2, 3, 14, 11, 10]\n",
        "largest_number = num[0]\n",
        "for number in num:\n",
        "    if number > largest_number:\n",
        "        largest_number = number\n",
        "print(largest_number)"
      ],
      "metadata": {
        "id": "8M1UFrsBjvKE",
        "colab": {
          "base_uri": "https://localhost:8080/"
        },
        "outputId": "032d11cb-b7f0-490d-affd-84df5d5a8089"
      },
      "execution_count": 56,
      "outputs": [
        {
          "output_type": "stream",
          "name": "stdout",
          "text": [
            "14\n"
          ]
        }
      ]
    },
    {
      "cell_type": "markdown",
      "source": [
        "\n",
        "5. Write a Python program to find second largest number in a list?"
      ],
      "metadata": {
        "id": "qlakIqGMjvSa"
      }
    },
    {
      "cell_type": "code",
      "source": [
        "num = [2,5,7,1,2]\n",
        "num.sort()\n",
        "print(\"Second largest element in the list is:\", num[-2])"
      ],
      "metadata": {
        "id": "tqE_uYvnjvZ_",
        "colab": {
          "base_uri": "https://localhost:8080/"
        },
        "outputId": "8347a220-5363-4dff-ea1d-0fb3a57e1531"
      },
      "execution_count": 67,
      "outputs": [
        {
          "output_type": "stream",
          "name": "stdout",
          "text": [
            "Second largest element in the list is: 5\n"
          ]
        }
      ]
    },
    {
      "cell_type": "markdown",
      "source": [
        "\n",
        "6. Write a Python program to find N largest elements from a list?"
      ],
      "metadata": {
        "id": "-Bg9VkHfjvhN"
      }
    },
    {
      "cell_type": "code",
      "source": [
        "num = [120, 50, 89, 170, 45, 250, 450, 340]\n",
        "print(\"List = \",num)\n",
        "n = 4\n",
        "num.sort()\n",
        "print(\"Largest integers from the List = \",num[-n:])"
      ],
      "metadata": {
        "id": "zxoOBto2jvoL",
        "colab": {
          "base_uri": "https://localhost:8080/"
        },
        "outputId": "a5fe7be1-9ee5-4fe5-bf9d-2b44f40e2529"
      },
      "execution_count": 68,
      "outputs": [
        {
          "output_type": "stream",
          "name": "stdout",
          "text": [
            "List =  [120, 50, 89, 170, 45, 250, 450, 340]\n",
            "Largest integers from the List =  [170, 250, 340, 450]\n"
          ]
        }
      ]
    },
    {
      "cell_type": "markdown",
      "source": [
        "\n",
        "7. Write a Python program to print even numbers in a list?"
      ],
      "metadata": {
        "id": "gxK2AU0OjvvX"
      }
    },
    {
      "cell_type": "code",
      "source": [
        "list = [1,2,5,3,6,11,4]\n",
        "\n",
        "for num in list:\n",
        "   \n",
        "   if num % 2 == 0:\n",
        "      print(\"The even numbers in list is:\",num, end = \" \")"
      ],
      "metadata": {
        "id": "foblO_MEjv2S",
        "colab": {
          "base_uri": "https://localhost:8080/"
        },
        "outputId": "1f9f40a7-afe8-4901-93e0-b207c07ee6ad"
      },
      "execution_count": 2,
      "outputs": [
        {
          "output_type": "stream",
          "name": "stdout",
          "text": [
            "The even numbers in list is: 2 The even numbers in list is: 6 The even numbers in list is: 4 "
          ]
        }
      ]
    },
    {
      "cell_type": "markdown",
      "source": [
        "\n",
        "8. Write a Python program to print odd numbers in a List?"
      ],
      "metadata": {
        "id": "xH7ZTJdzjv8r"
      }
    },
    {
      "cell_type": "code",
      "source": [
        "list = [1,2,5,3,6,11,4]\n",
        "\n",
        "for num in list:\n",
        "   \n",
        "   if num % 2 != 0:\n",
        "      print(\"The odd numbers in list is:\",num, end = \" \")"
      ],
      "metadata": {
        "id": "KsSEuypMjwC5",
        "colab": {
          "base_uri": "https://localhost:8080/"
        },
        "outputId": "65d32841-2a9f-4596-8b51-e81f128e6911"
      },
      "execution_count": 1,
      "outputs": [
        {
          "output_type": "stream",
          "name": "stdout",
          "text": [
            "The odd numbers in list is: 1 The odd numbers in list is: 5 The odd numbers in list is: 3 The odd numbers in list is: 11 "
          ]
        }
      ]
    },
    {
      "cell_type": "markdown",
      "source": [
        "\n",
        "9. Write a Python program to Remove empty List from List?"
      ],
      "metadata": {
        "id": "84QiS8_KjwKZ"
      }
    },
    {
      "cell_type": "code",
      "source": [
        "list1=[1,[],2,3,[],4]\n",
        "print(\"The original list is : \" + str(list1))\n",
        "while [] in list1 :\n",
        "    list1.remove([])\n",
        "print(\"List after empty list removal : \" + str(list1))"
      ],
      "metadata": {
        "id": "Jg1s6CxyjwRL",
        "colab": {
          "base_uri": "https://localhost:8080/"
        },
        "outputId": "33f70a11-89ed-4531-89ce-5ce72c82c94c"
      },
      "execution_count": 76,
      "outputs": [
        {
          "output_type": "stream",
          "name": "stdout",
          "text": [
            "The original list is : [1, [], 2, 3, [], 4]\n",
            "List after empty list removal : [1, 2, 3, 4]\n"
          ]
        }
      ]
    },
    {
      "cell_type": "markdown",
      "source": [
        "\n",
        "10. Write a Python program to Cloning or Copying a list?"
      ],
      "metadata": {
        "id": "OxTU8zjUjwYb"
      }
    },
    {
      "cell_type": "code",
      "source": [
        "list1=[1,2,3,4]\n",
        "list2=[5,6,7]\n",
        "list1=list2\n",
        "print(\"[list1=list2] :\",list1)"
      ],
      "metadata": {
        "id": "bI9_69Djjwfl",
        "colab": {
          "base_uri": "https://localhost:8080/"
        },
        "outputId": "32d4673b-0f49-41d9-ef5a-d8e54a6a32b1"
      },
      "execution_count": 70,
      "outputs": [
        {
          "output_type": "stream",
          "name": "stdout",
          "text": [
            "[list1=list2] : [5, 6, 7]\n"
          ]
        }
      ]
    },
    {
      "cell_type": "markdown",
      "source": [
        "11. Write a Python program to Count occurrences of an element in a list?"
      ],
      "metadata": {
        "id": "QwTIZfQcjwmr"
      }
    },
    {
      "cell_type": "code",
      "source": [
        "\n",
        "li=[6]\n",
        "n=int(input(\"Enter size of list \"))\n",
        "for i in range(0,n):\n",
        "    e=int(input(\"Enter element of list \"))\n",
        "    li.append(e)\n",
        "print(\"Original list: \",li)\n",
        "\n",
        "n=int(input(\"Enter element to be checked list: \"))\n",
        "\n",
        "print(n,\" has occurred \",li.count(n),\"times\")"
      ],
      "metadata": {
        "id": "uzaim9v8jwsk",
        "colab": {
          "base_uri": "https://localhost:8080/"
        },
        "outputId": "8e5d4408-1d55-4e0d-82ae-489bca68e879"
      },
      "execution_count": 80,
      "outputs": [
        {
          "output_type": "stream",
          "name": "stdout",
          "text": [
            "Enter size of list 4\n",
            "Enter element of list 1\n",
            "Enter element of list 2\n",
            "Enter element of list 2\n",
            "Enter element of list 3\n",
            "Original list:  [6, 1, 2, 2, 3]\n",
            "Enter element to be checked list: 2\n",
            "2  has occurred  2 times\n"
          ]
        }
      ]
    }
  ]
}