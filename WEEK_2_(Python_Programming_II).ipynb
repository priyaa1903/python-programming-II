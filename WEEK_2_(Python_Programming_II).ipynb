{
  "nbformat": 4,
  "nbformat_minor": 0,
  "metadata": {
    "colab": {
      "provenance": [],
      "collapsed_sections": [],
      "authorship_tag": "ABX9TyMDnPP0CiBClDqlTK5eYjx/",
      "include_colab_link": true
    },
    "kernelspec": {
      "name": "python3",
      "display_name": "Python 3"
    },
    "language_info": {
      "name": "python"
    }
  },
  "cells": [
    {
      "cell_type": "markdown",
      "metadata": {
        "id": "view-in-github",
        "colab_type": "text"
      },
      "source": [
        "<a href=\"https://colab.research.google.com/github/priyaa1903/python-programming-II/blob/main/WEEK_2_(Python_Programming_II).ipynb\" target=\"_parent\"><img src=\"https://colab.research.google.com/assets/colab-badge.svg\" alt=\"Open In Colab\"/></a>"
      ]
    },
    {
      "cell_type": "markdown",
      "source": [
        "**PYTHON PROGRAMMING**\n",
        "\n",
        "**WEEK 2**\n",
        "\n",
        "Name: Priya Moolya\n",
        "\n",
        "Roll no: 43\n",
        "\n",
        "Class: SY EXTC-A"
      ],
      "metadata": {
        "id": "lZe47AKIxpD5"
      }
    },
    {
      "cell_type": "markdown",
      "source": [
        "Section A (25)\n",
        "\n",
        "Question1\n",
        "\n",
        "Create a function that takes three integer arguments (a, b, c) and returns the amount of integers which are of equal value.\n"
      ],
      "metadata": {
        "id": "BjQ-1MdixwoB"
      }
    },
    {
      "cell_type": "code",
      "source": [
        "def equal(a,b,c):\n",
        "    num = 0\n",
        "    if a == b and a == c :\n",
        "        num = 3\n",
        "    elif a == b or a == c :\n",
        "        num = 2\n",
        "    else:\n",
        "        num = 0\n",
        "    return num\n",
        "equal(3, 4, 3)\n"
      ],
      "metadata": {
        "colab": {
          "base_uri": "https://localhost:8080/",
          "height": 0
        },
        "id": "-QEXhwrQxxGR",
        "outputId": "a2f250ce-3e60-4bf6-fa83-45e94d18442e"
      },
      "execution_count": 3,
      "outputs": [
        {
          "output_type": "execute_result",
          "data": {
            "text/plain": [
              "2"
            ]
          },
          "metadata": {},
          "execution_count": 3
        }
      ]
    },
    {
      "cell_type": "markdown",
      "source": [
        "Question2\n",
        "\n",
        "Write a function that converts a dictionary into a list of keys-values tuples.\n"
      ],
      "metadata": {
        "id": "x6KqzT40xxS5"
      }
    },
    {
      "cell_type": "code",
      "source": [
        "dict = { 'priya': 10, 'riya': 12, 'geet': 31 }\n",
        "list = [(k, v) for k, v in dict.items()]\n",
        "print(list)"
      ],
      "metadata": {
        "id": "sf9iUFBsxxba",
        "colab": {
          "base_uri": "https://localhost:8080/",
          "height": 0
        },
        "outputId": "dbdbc33c-250c-4fac-bc56-56199edc0129"
      },
      "execution_count": 5,
      "outputs": [
        {
          "output_type": "stream",
          "name": "stdout",
          "text": [
            "[('priya', 10), ('riya', 12), ('geet', 31)]\n"
          ]
        }
      ]
    },
    {
      "cell_type": "markdown",
      "source": [
        "Question3\n",
        "\n",
        "Write a function that creates a dictionary with each (key, value) pair being the (lower case, upper case) versions of a letter, respectively.\n"
      ],
      "metadata": {
        "id": "bDaf5FPMxxkJ"
      }
    },
    {
      "cell_type": "code",
      "source": [
        "def conv(lst):\n",
        "    return {v.lower():v.upper() for v in lst}\n",
        "conv(['a', 'b'])"
      ],
      "metadata": {
        "id": "rsMq9K0Zxxrz",
        "colab": {
          "base_uri": "https://localhost:8080/",
          "height": 0
        },
        "outputId": "e5414cdf-3e15-47ce-e50c-f289ccd15cd4"
      },
      "execution_count": 8,
      "outputs": [
        {
          "output_type": "execute_result",
          "data": {
            "text/plain": [
              "{'a': 'A', 'b': 'B'}"
            ]
          },
          "metadata": {},
          "execution_count": 8
        }
      ]
    },
    {
      "cell_type": "markdown",
      "source": [
        "Question4\n",
        "\n",
        "Write a function, that replaces all vowels in a string with a specified vowel"
      ],
      "metadata": {
        "id": "ySZpUXpvxxzZ"
      }
    },
    {
      "cell_type": "code",
      "source": [
        "\n",
        "def vow_replace(s,ch):\n",
        "    vowel ='AEIOUaeiuo'\n",
        "    s1 = []\n",
        "    for i in range(len(s)):\n",
        "        if s[i] in vowel:\n",
        "            s1.append(ch)\n",
        "        else:\n",
        "            s1.append(s[i])\n",
        "\n",
        "    return ''.join((s1))\n",
        "vow_replace('apples and jackfruit', 'e')"
      ],
      "metadata": {
        "id": "ih3OJjwKxx6s",
        "colab": {
          "base_uri": "https://localhost:8080/",
          "height": 35
        },
        "outputId": "40d00df1-00dc-4070-ce59-57537406b569"
      },
      "execution_count": 10,
      "outputs": [
        {
          "output_type": "execute_result",
          "data": {
            "text/plain": [
              "'epples end jeckfreet'"
            ],
            "application/vnd.google.colaboratory.intrinsic+json": {
              "type": "string"
            }
          },
          "metadata": {},
          "execution_count": 10
        }
      ]
    },
    {
      "cell_type": "markdown",
      "source": [
        "Question5\n",
        "\n",
        "Create a function that takes a string as input and capitalizes a letter if its ASCII code is even and returns its lower case version if its ASCII code is odd.\n"
      ],
      "metadata": {
        "id": "nm4VaVdoxyCR"
      }
    },
    {
      "cell_type": "code",
      "source": [
        "def ascii_capitalize(s):\n",
        "    s1 = []\n",
        "    for i in range(len(s)):\n",
        "        if ord(s[i]) % 2 == 0:\n",
        "            s1.append(s[i].upper())\n",
        "        else:\n",
        "            s1.append(s[i].lower())\n",
        "\n",
        "    return \"\".join((s1))\n",
        "ascii_capitalize('to be or not to be!')"
      ],
      "metadata": {
        "id": "kN5cGUqKxyKJ",
        "colab": {
          "base_uri": "https://localhost:8080/",
          "height": 35
        },
        "outputId": "81068600-4803-4571-aeaa-4d9d3dece00b"
      },
      "execution_count": 11,
      "outputs": [
        {
          "output_type": "execute_result",
          "data": {
            "text/plain": [
              "'To Be oR NoT To Be!'"
            ],
            "application/vnd.google.colaboratory.intrinsic+json": {
              "type": "string"
            }
          },
          "metadata": {},
          "execution_count": 11
        }
      ]
    }
  ]
}