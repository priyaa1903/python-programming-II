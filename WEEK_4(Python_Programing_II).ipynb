{
  "nbformat": 4,
  "nbformat_minor": 0,
  "metadata": {
    "colab": {
      "provenance": [],
      "collapsed_sections": [],
      "authorship_tag": "ABX9TyM3oZ/VTv0u1TJc38sdDuT4",
      "include_colab_link": true
    },
    "kernelspec": {
      "name": "python3",
      "display_name": "Python 3"
    },
    "language_info": {
      "name": "python"
    }
  },
  "cells": [
    {
      "cell_type": "markdown",
      "metadata": {
        "id": "view-in-github",
        "colab_type": "text"
      },
      "source": [
        "<a href=\"https://colab.research.google.com/github/priyaa1903/python-programming-II/blob/main/WEEK_4(Python_Programing_II).ipynb\" target=\"_parent\"><img src=\"https://colab.research.google.com/assets/colab-badge.svg\" alt=\"Open In Colab\"/></a>"
      ]
    },
    {
      "cell_type": "markdown",
      "source": [
        "**PYTHON PROGRAMMING**\n",
        "\n",
        "**WEEK 4**\n",
        "\n",
        "Name: Priya Moolya\n",
        "\n",
        "Roll no: 43\n",
        "\n",
        "Class: SY EXTC-A\n",
        "\n"
      ],
      "metadata": {
        "id": "mPfzom81mrJ-"
      }
    },
    {
      "cell_type": "markdown",
      "source": [
        "Questions on OOPS\n",
        "\n",
        "1.     Write a Python program to create a Vehicle class with max_speed and mileage instance attributes.\n"
      ],
      "metadata": {
        "id": "ywLb6ESams_L"
      }
    },
    {
      "cell_type": "code",
      "source": [
        "class Vehicle:\n",
        "    def __init__(self, max_speed, mileage):\n",
        "        self.max_speed = max_speed\n",
        "        self.mileage = mileage\n",
        "\n",
        "x = Vehicle(589, 18)\n",
        "print(\"The max speed is:\",x.max_speed,\"The mileage is:\", x.mileage)"
      ],
      "metadata": {
        "colab": {
          "base_uri": "https://localhost:8080/"
        },
        "id": "ArIAdeDYmtmL",
        "outputId": "ca307ecf-6cbd-4d3c-af47-ee7b963c7342"
      },
      "execution_count": null,
      "outputs": [
        {
          "output_type": "stream",
          "name": "stdout",
          "text": [
            "The max speed is: 589 The mileage is: 18\n"
          ]
        }
      ]
    },
    {
      "cell_type": "markdown",
      "source": [
        "2.     Create a Vehicle class without any variables and methods.\n"
      ],
      "metadata": {
        "id": "FexBxfJymv8K"
      }
    },
    {
      "cell_type": "code",
      "source": [
        "class Vehicle:\n",
        "    pass"
      ],
      "metadata": {
        "id": "nr9hfam-mwGK"
      },
      "execution_count": null,
      "outputs": []
    },
    {
      "cell_type": "markdown",
      "source": [
        "3.     Create a child class Bus that will inherit all of the variables and methods of the Vehicle class\n"
      ],
      "metadata": {
        "id": "bdKz_kEimwQC"
      }
    },
    {
      "cell_type": "code",
      "source": [
        "class Vehicle:\n",
        "\n",
        "    def __init__(self, name, max_speed, mileage):\n",
        "        self.name = name\n",
        "        self.max_speed = max_speed\n",
        "        self.mileage = mileage\n",
        "class Bus(Vehicle):\n",
        "  pass\n",
        "\n",
        "bus = Bus(\"School Bus\", 180, 12)\n",
        "print(\"Vehicle Name:\", bus.name,\"Speed:\", bus.max_speed, \"Mileage:\", bus.mileage)\n"
      ],
      "metadata": {
        "colab": {
          "base_uri": "https://localhost:8080/"
        },
        "id": "gZKhjfrtmwXy",
        "outputId": "eec490ee-880a-49de-f4a9-6a1f1c66148f"
      },
      "execution_count": null,
      "outputs": [
        {
          "output_type": "stream",
          "name": "stdout",
          "text": [
            "Vehicle Name: School Bus Speed: 180 Mileage: 12\n"
          ]
        }
      ]
    },
    {
      "cell_type": "markdown",
      "source": [
        "4.     Create a Bus class that inherits from the Vehicle class. Give the capacity argument of Bus.seating_capacity() a default value of 50.\n"
      ],
      "metadata": {
        "id": "CKGfa-0omwiD"
      }
    },
    {
      "cell_type": "code",
      "source": [
        "class Vehicle:\n",
        "    def __init__(self, name, max_speed, mileage):\n",
        "        self.name = name\n",
        "        self.max_speed = max_speed\n",
        "        self.mileage = mileage\n",
        "\n",
        "    def seating_capacity(self, capacity):\n",
        "        return f\"The seating capacity of a {self.name} is {capacity} passengers\"\n",
        "\n",
        "class Bus(Vehicle):\n",
        "    # assign default value to capacity\n",
        "    def seating_capacity(self, capacity=50):\n",
        "        return super().seating_capacity(capacity=50)\n",
        "\n",
        "School_bus = Bus(\"School Volvo\", 180, 12)\n",
        "print(School_bus.seating_capacity())\n"
      ],
      "metadata": {
        "id": "H5FPdLCqmwqF",
        "outputId": "3cdfc8a6-b472-4a0e-acfc-5ad64ccca656",
        "colab": {
          "base_uri": "https://localhost:8080/"
        }
      },
      "execution_count": null,
      "outputs": [
        {
          "output_type": "stream",
          "name": "stdout",
          "text": [
            "The seating capacity of a School Volvo is 50 passengers\n"
          ]
        }
      ]
    },
    {
      "cell_type": "markdown",
      "source": [
        "Class Inheritance\n",
        "\n",
        "5. \tGiven:\n",
        "Create a Bus child class that inherits from the Vehicle class. The default fare charge of any vehicle is seating capacity * 100. If Vehicle is Bus instance, we need to add an extra 10% on full fare as a maintenance charge. So total fare for bus instance will become the final amount = total fare + 10% of the total fare.\n"
      ],
      "metadata": {
        "id": "OVzAKrVjmw0R"
      }
    },
    {
      "cell_type": "code",
      "source": [
        "class Vehicle:\n",
        "    def __init__(self, name, mileage, cap):\n",
        "        self.name = name\n",
        "        self.mileage = mileage\n",
        "        self.cap = cap\n",
        "\n",
        "    def fare(self):\n",
        "        return self.cap * 100\n",
        "\n",
        "class Bus(Vehicle):\n",
        "    pass\n",
        "\n",
        "School_bus = Bus(\"School Volvo\", 10, 30)\n",
        "print(\"Total Bus fare is:\", School_bus.fare())"
      ],
      "metadata": {
        "id": "DzHZDHQhmw8j",
        "colab": {
          "base_uri": "https://localhost:8080/",
          "height": 0
        },
        "outputId": "5ae684b5-c9a5-4ab2-c2d4-af8bef6763fb"
      },
      "execution_count": 5,
      "outputs": [
        {
          "output_type": "stream",
          "name": "stdout",
          "text": [
            "Total Bus fare is: 3000\n"
          ]
        }
      ]
    }
  ]
}